{
  "cells": [
    {
      "cell_type": "code",
      "execution_count": null,
      "metadata": {
        "id": "JQh574E60uCI"
      },
      "outputs": [],
      "source": [
        "import pandas as pd\n",
        "# import numpy as np\n",
        "# import matplotlib.pyplot as plt"
      ]
    },
    {
      "cell_type": "code",
      "execution_count": null,
      "metadata": {
        "id": "uikISRca0uCK"
      },
      "outputs": [],
      "source": [
        "df = pd.read_csv('https://raw.githubusercontent.com/cryoras/natural_disaster_validation/refs/heads/main/dataset.csv')\n",
        "df =df.sample(n=10000)"
      ]
    },
    {
      "cell_type": "code",
      "execution_count": null,
      "metadata": {
        "id": "tUTGUuV10uCK",
        "outputId": "43dc74c0-3632-4ca4-a94d-bca6b192d2a5"
      },
      "outputs": [
        {
          "data": {
            "text/html": [
              "<div>\n",
              "<style scoped>\n",
              "    .dataframe tbody tr th:only-of-type {\n",
              "        vertical-align: middle;\n",
              "    }\n",
              "\n",
              "    .dataframe tbody tr th {\n",
              "        vertical-align: top;\n",
              "    }\n",
              "\n",
              "    .dataframe thead th {\n",
              "        text-align: right;\n",
              "    }\n",
              "</style>\n",
              "<table border=\"1\" class=\"dataframe\">\n",
              "  <thead>\n",
              "    <tr style=\"text-align: right;\">\n",
              "      <th></th>\n",
              "      <th>text</th>\n",
              "      <th>label</th>\n",
              "    </tr>\n",
              "  </thead>\n",
              "  <tbody>\n",
              "    <tr>\n",
              "      <th>3003</th>\n",
              "      <td>Banjir setinggi 2.5 meter melanda Medan. 54 RT...</td>\n",
              "      <td>banjir</td>\n",
              "    </tr>\n",
              "    <tr>\n",
              "      <th>5546</th>\n",
              "      <td>Tanah longsor di Agam pada 2023-10-10. 1 rumah...</td>\n",
              "      <td>tanah_longsor</td>\n",
              "    </tr>\n",
              "    <tr>\n",
              "      <th>6388</th>\n",
              "      <td>Peringatan tsunami di Banda Aceh setelah gempa...</td>\n",
              "      <td>tsunami</td>\n",
              "    </tr>\n",
              "    <tr>\n",
              "      <th>4926</th>\n",
              "      <td>Tanah longsor di Puncak pada 2021-09-15. 25 ru...</td>\n",
              "      <td>tanah_longsor</td>\n",
              "    </tr>\n",
              "    <tr>\n",
              "      <th>5133</th>\n",
              "      <td>Tanah longsor di Pacitan pada 2024-11-19. 11 r...</td>\n",
              "      <td>tanah_longsor</td>\n",
              "    </tr>\n",
              "  </tbody>\n",
              "</table>\n",
              "</div>"
            ],
            "text/plain": [
              "                                                   text          label\n",
              "3003  Banjir setinggi 2.5 meter melanda Medan. 54 RT...         banjir\n",
              "5546  Tanah longsor di Agam pada 2023-10-10. 1 rumah...  tanah_longsor\n",
              "6388  Peringatan tsunami di Banda Aceh setelah gempa...        tsunami\n",
              "4926  Tanah longsor di Puncak pada 2021-09-15. 25 ru...  tanah_longsor\n",
              "5133  Tanah longsor di Pacitan pada 2024-11-19. 11 r...  tanah_longsor"
            ]
          },
          "execution_count": 12,
          "metadata": {},
          "output_type": "execute_result"
        }
      ],
      "source": [
        "df.head()"
      ]
    },
    {
      "cell_type": "code",
      "execution_count": null,
      "metadata": {
        "id": "mOZmzZ920uCL",
        "outputId": "68a28828-1f22-48d6-96f0-13f6167a930c"
      },
      "outputs": [
        {
          "data": {
            "text/plain": [
              "label\n",
              "banjir           2000\n",
              "tanah_longsor    2000\n",
              "tsunami          2000\n",
              "gempabumi        2000\n",
              "not_relevant     2000\n",
              "Name: count, dtype: int64"
            ]
          },
          "execution_count": 13,
          "metadata": {},
          "output_type": "execute_result"
        }
      ],
      "source": [
        "df['label'].value_counts()"
      ]
    }
  ],
  "metadata": {
    "kernelspec": {
      "display_name": "Natural_disaster",
      "language": "python",
      "name": "python3"
    },
    "language_info": {
      "codemirror_mode": {
        "name": "ipython",
        "version": 3
      },
      "file_extension": ".py",
      "mimetype": "text/x-python",
      "name": "python",
      "nbconvert_exporter": "python",
      "pygments_lexer": "ipython3",
      "version": "3.13.2"
    },
    "colab": {
      "provenance": []
    }
  },
  "nbformat": 4,
  "nbformat_minor": 0
}