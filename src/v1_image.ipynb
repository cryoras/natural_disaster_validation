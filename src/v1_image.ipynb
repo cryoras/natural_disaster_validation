{
  "cells": [
    {
      "cell_type": "markdown",
      "source": [
        "# scraping"
      ],
      "metadata": {
        "id": "SXIGon_mSYej"
      }
    },
    {
      "cell_type": "code",
      "execution_count": null,
      "metadata": {
        "id": "cDZsG1d0SXIj",
        "outputId": "71bbec29-456a-4e67-dcd9-35758d0b64d7",
        "colab": {
          "base_uri": "https://localhost:8080/"
        }
      },
      "outputs": [
        {
          "output_type": "stream",
          "name": "stdout",
          "text": [
            "Collecting bing-image-downloader\n",
            "  Downloading bing_image_downloader-1.1.2-py3-none-any.whl.metadata (2.8 kB)\n",
            "Downloading bing_image_downloader-1.1.2-py3-none-any.whl (5.9 kB)\n",
            "Installing collected packages: bing-image-downloader\n",
            "Successfully installed bing-image-downloader-1.1.2\n"
          ]
        }
      ],
      "source": [
        "# !pip install bing-image-downloader"
      ]
    },
    {
      "cell_type": "code",
      "source": [
        "# from bing_image_downloader import downloader\n",
        "# downloader.download(\"banjir\", limit=500,  output_dir='dataset/', adult_filter_off=True, force_replace=False, timeout=60, verbose=True)"
      ],
      "metadata": {
        "id": "9K-oF0efXzMA"
      },
      "execution_count": null,
      "outputs": []
    },
    {
      "cell_type": "code",
      "source": [
        "# downloader.download(\"gempa\", limit=500,  output_dir='dataset/', adult_filter_off=True, force_replace=False, timeout=60, verbose=True)"
      ],
      "metadata": {
        "id": "s0Q80XvOaiXB"
      },
      "execution_count": null,
      "outputs": []
    },
    {
      "cell_type": "code",
      "source": [
        "# downloader.download(\"tanah longsor\", limit=500,  output_dir='dataset/', adult_filter_off=True, force_replace=False, timeout=60, verbose=True)"
      ],
      "metadata": {
        "id": "UiG2Qq8idTK-"
      },
      "execution_count": null,
      "outputs": []
    },
    {
      "cell_type": "code",
      "source": [
        "# downloader.download(\"tsunami\", limit=500,  output_dir='dataset/', adult_filter_off=True, force_replace=False, timeout=60, verbose=True)"
      ],
      "metadata": {
        "id": "f1pudfN4iEvw"
      },
      "execution_count": null,
      "outputs": []
    },
    {
      "cell_type": "code",
      "source": [
        "# downloader.download(\"random\", limit=500,  output_dir='dataset/', adult_filter_off=True, force_replace=False, timeout=60, verbose=True)"
      ],
      "metadata": {
        "id": "oRveV_HiiBoJ"
      },
      "execution_count": null,
      "outputs": []
    },
    {
      "cell_type": "code",
      "source": [
        "from google.colab import drive\n",
        "drive.mount('/content/drive')"
      ],
      "metadata": {
        "id": "k75Eet8XiNqo",
        "outputId": "01972194-a8c4-4b67-fd96-c2fabf1b41bb",
        "colab": {
          "base_uri": "https://localhost:8080/"
        }
      },
      "execution_count": 1,
      "outputs": [
        {
          "output_type": "stream",
          "name": "stdout",
          "text": [
            "Mounted at /content/drive\n"
          ]
        }
      ]
    },
    {
      "cell_type": "code",
      "source": [
        "# !cp -r /content/dataset/ /content/drive/MyDrive/dataset"
      ],
      "metadata": {
        "id": "eSoiwGrWilxM"
      },
      "execution_count": null,
      "outputs": []
    },
    {
      "cell_type": "code",
      "source": [
        "!cp -r /content/drive/MyDrive/dataset/ /content/pre-data/"
      ],
      "metadata": {
        "id": "NJKoyPxaDLMk"
      },
      "execution_count": 2,
      "outputs": []
    },
    {
      "cell_type": "code",
      "source": [
        "import os\n",
        "import shutil\n",
        "\n",
        "# Direktori asal dan tujuan\n",
        "source_dir = \"pre-data/dataset\"\n",
        "dest_valid = \"DATA/VALID\"\n",
        "dest_invalid = \"DATA/INVALID\"\n",
        "\n",
        "os.makedirs(dest_valid, exist_ok=True)\n",
        "os.makedirs(dest_invalid, exist_ok=True)\n",
        "\n",
        "\n",
        "valid_categories = [\"banjir\", \"gempa\", \"tanah longsor\", \"tsunami\"]\n",
        "invalid_category = \"random\"\n",
        "\n",
        "\n",
        "for category in valid_categories:\n",
        "    category_path = os.path.join(source_dir, category)\n",
        "    if os.path.exists(category_path):\n",
        "        for file_name in os.listdir(category_path):\n",
        "            file_path = os.path.join(category_path, file_name)\n",
        "            if os.path.isfile(file_path):\n",
        "                new_file_name = f\"{category}_{file_name}\"\n",
        "                shutil.move(file_path, os.path.join(dest_valid, new_file_name))\n",
        "\n",
        "invalid_path = os.path.join(source_dir, invalid_category)\n",
        "if os.path.exists(invalid_path):\n",
        "    for file_name in os.listdir(invalid_path):\n",
        "        file_path = os.path.join(invalid_path, file_name)\n",
        "        if os.path.isfile(file_path):\n",
        "            new_file_name = f\"random_{file_name}\"\n",
        "            shutil.move(file_path, os.path.join(dest_invalid, new_file_name))"
      ],
      "metadata": {
        "id": "Hz_vfyWwIcN9"
      },
      "execution_count": null,
      "outputs": []
    },
    {
      "cell_type": "code",
      "source": [
        "dest_valid = \"DATA/VALID\"\n",
        "dest_invalid = \"DATA/INVALID\"\n",
        "\n",
        "# Rename file di DATA/VALID\n",
        "valid_files = sorted(os.listdir(dest_valid))\n",
        "for i, file_name in enumerate(valid_files, start=1):\n",
        "    old_path = os.path.join(dest_valid, file_name)\n",
        "    new_path = os.path.join(dest_valid, f\"valid_{i}.jpg\")\n",
        "    os.rename(old_path, new_path)\n",
        "\n",
        "# Rename file di DATA/INVALID\n",
        "invalid_files = sorted(os.listdir(dest_invalid))\n",
        "for i, file_name in enumerate(invalid_files, start=1):\n",
        "    old_path = os.path.join(dest_invalid, file_name)\n",
        "    new_path = os.path.join(dest_invalid, f\"invalid_{i}.jpg\")\n",
        "    os.rename(old_path, new_path)\n",
        "\n",
        "print(\"Rename selesai untuk semua file di VALID dan INVALID!\")"
      ],
      "metadata": {
        "id": "CeIAKKSwIfbE",
        "outputId": "3f0ea64c-089d-48ed-df24-4da1805d31eb",
        "colab": {
          "base_uri": "https://localhost:8080/"
        }
      },
      "execution_count": 4,
      "outputs": [
        {
          "output_type": "stream",
          "name": "stdout",
          "text": [
            "Rename selesai untuk semua file di VALID dan INVALID!\n"
          ]
        }
      ]
    },
    {
      "cell_type": "code",
      "source": [
        "import numpy as np\n",
        "import pandas as pd\n",
        "import warnings\n",
        "import matplotlib.pyplot as plt\n",
        "import seaborn as sns\n",
        "import random\n",
        "from random import sample\n",
        "from shutil import copyfile\n",
        "from pathlib import Path\n",
        "from tqdm.notebook import tqdm as tq\n",
        "warnings.simplefilter(action='ignore', category=FutureWarning)\n",
        "from google.colab import files\n",
        "\n",
        "import cv2\n",
        "import skimage\n",
        "from PIL import Image\n",
        "from skimage import io\n",
        "from skimage.transform import resize\n",
        "from skimage.transform import rotate, AffineTransform, warp\n",
        "from skimage import img_as_ubyte\n",
        "from skimage.exposure import adjust_gamma\n",
        "from skimage.util import random_noise\n",
        "\n",
        "import keras\n",
        "import tensorflow as tf\n",
        "from sklearn.model_selection import train_test_split\n",
        "from sklearn.metrics import confusion_matrix, classification_report\n",
        "from tensorflow.keras import Model, layers\n",
        "from tensorflow.keras.preprocessing import image\n",
        "from tensorflow.keras.preprocessing.image import ImageDataGenerator, img_to_array, load_img\n",
        "from tensorflow.keras.optimizers import Adam, RMSprop, SGD\n",
        "from tensorflow.keras.layers import InputLayer, Conv2D, SeparableConv2D, MaxPooling2D, MaxPool2D, Dense, Flatten, Dropout, BatchNormalization\n",
        "from tensorflow.keras.models import Sequential, Model\n",
        "from tensorflow.keras.applications import MobileNet\n",
        "from tensorflow.keras.applications.densenet import DenseNet121\n",
        "from tensorflow.keras.utils import to_categorical\n",
        "from tensorflow.keras.callbacks import ModelCheckpoint, Callback, EarlyStopping, ReduceLROnPlateau\n",
        "from tensorflow.keras.models import load_model\n"
      ],
      "metadata": {
        "id": "c0JRZPs-JJyP"
      },
      "execution_count": 14,
      "outputs": []
    },
    {
      "cell_type": "code",
      "source": [
        "ND_path = \"DATA\"\n",
        "file_name = []\n",
        "labels = []\n",
        "full_path = []\n",
        "for path, subdirs, files in os.walk(ND_path):\n",
        "    for name in files:\n",
        "        full_path.append(os.path.join(path, name))\n",
        "        labels.append(path.split('/')[-1])\n",
        "        file_name.append(name)\n",
        "\n",
        "distribution_train = pd.DataFrame({\"path\":full_path, 'file_name':file_name, \"labels\":labels})\n",
        "\n",
        "# Plot distribusi gambar di setiap kelas\n",
        "Label = distribution_train['labels']\n",
        "plt.figure(figsize = (6,6))\n",
        "sns.set_style(\"darkgrid\")\n",
        "plot_data = sns.countplot(Label)"
      ],
      "metadata": {
        "id": "_KNZlZBtIrFD",
        "outputId": "5a3e8e2a-0e78-41d4-f01f-4ba176b10a16",
        "colab": {
          "base_uri": "https://localhost:8080/",
          "height": 542
        }
      },
      "execution_count": 8,
      "outputs": [
        {
          "output_type": "display_data",
          "data": {
            "text/plain": [
              "<Figure size 600x600 with 1 Axes>"
            ],
            "image/png": "[encoded data removed]"
          },
          "metadata": {}
        }
      ]
    },
    {
      "cell_type": "code",
      "source": [
        "valid = \"DATA/VALID\"  # Ganti dengan path folder yang ingin dihitung\n",
        "file_count = len([f for f in os.listdir(valid) if os.path.isfile(os.path.join(valid, f))])\n",
        "print(f\"Jumlah file di {valid}: {file_count}\")\n",
        "\n",
        "invalid = \"DATA/INVALID\"\n",
        "file_count = len([f for f in os.listdir(invalid) if os.path.isfile(os.path.join(invalid, f))])\n",
        "print(f\"Jumlah file di {invalid}: {file_count}\")\n"
      ],
      "metadata": {
        "id": "rGYWpSNhKEsi",
        "outputId": "2cfd4ad2-65ca-4e52-e5f3-d5e2c1426382",
        "colab": {
          "base_uri": "https://localhost:8080/"
        }
      },
      "execution_count": 10,
      "outputs": [
        {
          "output_type": "stream",
          "name": "stdout",
          "text": [
            "Jumlah file di DATA/VALID: 1252\n",
            "Jumlah file di DATA/INVALID: 390\n"
          ]
        }
      ]
    },
    {
      "cell_type": "code",
      "source": [
        "def anticlockwise_rotation(img):\n",
        "    img = cv2.cvtColor(img, 0)\n",
        "    img = cv2.resize(img, (224,224))\n",
        "    sudut = random.randint(0,180)\n",
        "    return rotate(img, sudut)\n",
        "\n",
        "def clockwise_rotation(img):\n",
        "    img = cv2.cvtColor(img, 0)\n",
        "    img = cv2.resize(img, (224,224))\n",
        "    sudut = random.randint(0,180)\n",
        "    return rotate(img, -sudut)\n",
        "\n",
        "def flip_up_down(img):\n",
        "    img = cv2.cvtColor(img, 0)\n",
        "    img = cv2.resize(img, (224,224))\n",
        "    return np.flipud(img)\n",
        "\n",
        "def add_brightness(img):\n",
        "    img = cv2.cvtColor(img, 0)\n",
        "    img = cv2.resize(img, (224,224))\n",
        "    img = adjust_gamma(img, gamma=0.5,gain=1)\n",
        "    return img\n",
        "\n",
        "def blur_image(img):\n",
        "    img = cv2.cvtColor(img, 0)\n",
        "    img = cv2.resize(img, (224,224))\n",
        "    return cv2.GaussianBlur(img, (9,9),0)\n",
        "\n",
        "def sheared(img):\n",
        "    img = cv2.cvtColor(img, 0)\n",
        "    img = cv2.resize(img, (224,224))\n",
        "    transform = AffineTransform(shear=0.2)\n",
        "    shear_image = warp(img, transform, mode=\"wrap\")\n",
        "    return shear_image\n",
        "\n",
        "def warp_shift(img):\n",
        "    img = cv2.cvtColor(img, 0)\n",
        "    img = cv2.resize(img, (224,224))\n",
        "    transform = AffineTransform(translation=(0,40))\n",
        "    warp_image = warp(img, transform, mode=\"wrap\")\n",
        "    return warp_image"
      ],
      "metadata": {
        "id": "N5LUijEvKnW5"
      },
      "execution_count": 11,
      "outputs": []
    },
    {
      "cell_type": "code",
      "source": [
        "transformations = { 'rotate anticlockwise': anticlockwise_rotation,\n",
        "                    'rotate clockwise': clockwise_rotation,\n",
        "                    'warp shift': warp_shift,\n",
        "                    'blurring image': blur_image,\n",
        "                    'add brightness' : add_brightness,\n",
        "                    'flip up down': flip_up_down,\n",
        "                    'shear image': sheared\n",
        "                  }"
      ],
      "metadata": {
        "id": "iJGOAQDtKpWL"
      },
      "execution_count": 12,
      "outputs": []
    },
    {
      "cell_type": "code",
      "source": [
        "images_path = \"DATA/INVALID\"\n",
        "augmented_path = \"DATA/INVALID\"\n",
        "images=[]\n",
        "\n",
        "for im in os.listdir(images_path):\n",
        "    images.append(os.path.join(images_path,im))\n",
        "\n",
        "images_to_generate=862\n",
        "i=1\n",
        "\n",
        "while i<=images_to_generate:\n",
        "    image=random.choice(images)\n",
        "    try:\n",
        "        original_image = io.imread(image)\n",
        "        transformed_image=None\n",
        "        n = 0      # Variabel untuk melakukan iterasi sampai jumlah transformasi yang akan diterapkan\n",
        "        transformation_count = random.randint(1, len(transformations)) # Pilih jumlah transformasi acak yang akan diterapkan pada gambar\n",
        "\n",
        "        while n <= transformation_count:\n",
        "            key = random.choice(list(transformations)) # Secara acak memilih dan memanggil metode\n",
        "            transformed_image = transformations[key](original_image)\n",
        "            n = n + 1\n",
        "\n",
        "        new_image_path= \"%s/augmented_image_%s.jpg\" %(augmented_path, i)\n",
        "        transformed_image = img_as_ubyte(transformed_image)  # Mengonversi gambar ke format byte yang tidak ditandatangani, dengan nilai dalam [0, 255]\n",
        "        cv2.imwrite(new_image_path, transformed_image)  # Simpan hasil transformasi augmentasi pada gambar ke path yang ditentukan\n",
        "        i =i+1\n",
        "    except ValueError as e:\n",
        "        print('could not read the',image ,':',e,'hence skipping it.')"
      ],
      "metadata": {
        "id": "tiNudxByKwil",
        "outputId": "a89c3068-eb55-431a-f146-5109bc1e525a",
        "colab": {
          "base_uri": "https://localhost:8080/"
        }
      },
      "execution_count": 15,
      "outputs": [
        {
          "output_type": "stream",
          "name": "stderr",
          "text": [
            "/usr/local/lib/python3.11/dist-packages/PIL/Image.py:1045: UserWarning: Palette images with Transparency expressed in bytes should be converted to RGBA images\n",
            "  warnings.warn(\n",
            "/usr/local/lib/python3.11/dist-packages/PIL/Image.py:1045: UserWarning: Palette images with Transparency expressed in bytes should be converted to RGBA images\n",
            "  warnings.warn(\n",
            "/usr/local/lib/python3.11/dist-packages/PIL/Image.py:1045: UserWarning: Palette images with Transparency expressed in bytes should be converted to RGBA images\n",
            "  warnings.warn(\n",
            "/usr/local/lib/python3.11/dist-packages/PIL/Image.py:1045: UserWarning: Palette images with Transparency expressed in bytes should be converted to RGBA images\n",
            "  warnings.warn(\n",
            "/usr/local/lib/python3.11/dist-packages/PIL/Image.py:1045: UserWarning: Palette images with Transparency expressed in bytes should be converted to RGBA images\n",
            "  warnings.warn(\n",
            "/usr/local/lib/python3.11/dist-packages/PIL/Image.py:1045: UserWarning: Palette images with Transparency expressed in bytes should be converted to RGBA images\n",
            "  warnings.warn(\n",
            "/usr/local/lib/python3.11/dist-packages/PIL/Image.py:1045: UserWarning: Palette images with Transparency expressed in bytes should be converted to RGBA images\n",
            "  warnings.warn(\n"
          ]
        }
      ]
    },
    {
      "cell_type": "code",
      "source": [
        "ND_path = \"DATA\"\n",
        "file_name = []\n",
        "labels = []\n",
        "full_path = []\n",
        "for path, subdirs, files in os.walk(ND_path):\n",
        "    for name in files:\n",
        "        full_path.append(os.path.join(path, name))\n",
        "        labels.append(path.split('/')[-1])\n",
        "        file_name.append(name)\n",
        "\n",
        "distribution_train = pd.DataFrame({\"path\":full_path, 'file_name':file_name, \"labels\":labels})\n",
        "\n",
        "# Plot distribusi gambar di setiap kelas\n",
        "Label = distribution_train['labels']\n",
        "plt.figure(figsize = (6,6))\n",
        "sns.set_style(\"darkgrid\")\n",
        "plot_data = sns.countplot(Label)"
      ],
      "metadata": {
        "id": "NYtB6hvxLnb1",
        "outputId": "b6227c4e-f450-4e54-a061-29cac43dae26",
        "colab": {
          "base_uri": "https://localhost:8080/",
          "height": 542
        }
      },
      "execution_count": 16,
      "outputs": [
        {
          "output_type": "display_data",
          "data": {
            "text/plain": [
              "<Figure size 600x600 with 1 Axes>"
            ],
            "image/png": "[encoded data removed]"
          },
          "metadata": {}
        }
      ]
    },
    {
      "cell_type": "code",
      "source": [
        "mypath= 'DATA'\n",
        "\n",
        "file_name = []\n",
        "labels = []\n",
        "full_path = []\n",
        "for path, subdirs, files in os.walk(mypath):\n",
        "    for name in files:\n",
        "        full_path.append(os.path.join(path, name))\n",
        "        labels.append(path.split('/')[-1])\n",
        "        file_name.append(name)\n",
        "\n",
        "\n",
        "# Memasukan variabel yang sudah dikumpulkan pada looping di atas menjadi sebuah dataframe agar rapih\n",
        "df = pd.DataFrame({\"path\":full_path,'file_name':file_name,\"labels\":labels})\n",
        "# Melihat jumlah data gambar pada masing-masing label\n",
        "df.groupby(['labels']).size()"
      ],
      "metadata": {
        "id": "ttmvosxBLvLO",
        "outputId": "c381a7a8-1ff2-42bc-c57e-4286cef94559",
        "colab": {
          "base_uri": "https://localhost:8080/",
          "height": 178
        }
      },
      "execution_count": 17,
      "outputs": [
        {
          "output_type": "execute_result",
          "data": {
            "text/plain": [
              "labels\n",
              "INVALID    1252\n",
              "VALID      1252\n",
              "dtype: int64"
            ],
            "text/html": [
              "<div>\n",
              "<style scoped>\n",
              "    .dataframe tbody tr th:only-of-type {\n",
              "        vertical-align: middle;\n",
              "    }\n",
              "\n",
              "    .dataframe tbody tr th {\n",
              "        vertical-align: top;\n",
              "    }\n",
              "\n",
              "    .dataframe thead th {\n",
              "        text-align: right;\n",
              "    }\n",
              "</style>\n",
              "<table border=\"1\" class=\"dataframe\">\n",
              "  <thead>\n",
              "    <tr style=\"text-align: right;\">\n",
              "      <th></th>\n",
              "      <th>0</th>\n",
              "    </tr>\n",
              "    <tr>\n",
              "      <th>labels</th>\n",
              "      <th></th>\n",
              "    </tr>\n",
              "  </thead>\n",
              "  <tbody>\n",
              "    <tr>\n",
              "      <th>INVALID</th>\n",
              "      <td>1252</td>\n",
              "    </tr>\n",
              "    <tr>\n",
              "      <th>VALID</th>\n",
              "      <td>1252</td>\n",
              "    </tr>\n",
              "  </tbody>\n",
              "</table>\n",
              "</div><br><label><b>dtype:</b> int64</label>"
            ]
          },
          "metadata": {},
          "execution_count": 17
        }
      ]
    },
    {
      "cell_type": "code",
      "source": [
        "X= df['path']\n",
        "y= df['labels']"
      ],
      "metadata": {
        "id": "riZcmmUPL73_"
      },
      "execution_count": 18,
      "outputs": []
    },
    {
      "cell_type": "code",
      "source": [
        "X_train, X_test, y_train, y_test = train_test_split(\n",
        "    X, y, test_size=0.2, random_state=300)"
      ],
      "metadata": {
        "id": "XPq3Kt2iL-NB"
      },
      "execution_count": 19,
      "outputs": []
    },
    {
      "cell_type": "code",
      "source": [
        "df_tr = pd.DataFrame({'path':X_train,'labels':y_train,'set':'train'})\n",
        "df_te = pd.DataFrame({'path':X_test,'labels':y_test,'set':'test'})"
      ],
      "metadata": {
        "id": "k9NldcW4MA_h"
      },
      "execution_count": 20,
      "outputs": []
    },
    {
      "cell_type": "code",
      "source": [
        "print('train size', len(df_tr))\n",
        "print('test size', len(df_te))"
      ],
      "metadata": {
        "id": "lOgrr2qQMEPY",
        "outputId": "afb0b2d1-7255-44b9-8694-c7e31b1a4b54",
        "colab": {
          "base_uri": "https://localhost:8080/"
        }
      },
      "execution_count": 21,
      "outputs": [
        {
          "output_type": "stream",
          "name": "stdout",
          "text": [
            "train size 2003\n",
            "test size 501\n"
          ]
        }
      ]
    },
    {
      "cell_type": "code",
      "source": [
        "df_all = pd.concat([df_tr, df_te], ignore_index=True)\n",
        "\n",
        "print('===================================================== \\n')\n",
        "print(df_all.groupby(['set', 'labels']).size(), '\\n')\n",
        "print('===================================================== \\n')\n",
        "\n",
        "# Cek sample data\n",
        "print(df_all.sample(5))"
      ],
      "metadata": {
        "id": "LSm7L275MHuJ",
        "outputId": "27e921e9-0a54-4530-944c-ec59a29f762e",
        "colab": {
          "base_uri": "https://localhost:8080/"
        }
      },
      "execution_count": 22,
      "outputs": [
        {
          "output_type": "stream",
          "name": "stdout",
          "text": [
            "===================================================== \n",
            "\n",
            "set    labels \n",
            "test   INVALID     238\n",
            "       VALID       263\n",
            "train  INVALID    1014\n",
            "       VALID       989\n",
            "dtype: int64 \n",
            "\n",
            "===================================================== \n",
            "\n",
            "                                      path   labels    set\n",
            "590           DATA/INVALID/invalid_250.jpg  INVALID  train\n",
            "596               DATA/VALID/valid_238.jpg    VALID  train\n",
            "4     DATA/INVALID/augmented_image_603.jpg  INVALID  train\n",
            "2092  DATA/INVALID/augmented_image_737.jpg  INVALID   test\n",
            "1963          DATA/INVALID/invalid_372.jpg  INVALID  train\n"
          ]
        }
      ]
    },
    {
      "cell_type": "code",
      "source": [
        "datasource = \"DATA/\"\n",
        "dataset_path = \"Dataset-Final/\"\n",
        "for index, row in tq(df_all.iterrows()):\n",
        "    file_path = row['path']\n",
        "    if os.path.exists(file_path) == False:\n",
        "            file_path = os.path.join(datasource_path,row['labels'],row['image'].split('.')[0])\n",
        "\n",
        "    if os.path.exists(os.path.join(dataset_path,row['set'],row['labels'])) == False:\n",
        "        os.makedirs(os.path.join(dataset_path,row['set'],row['labels']))\n",
        "\n",
        "    destination_file_name = file_path.split('/')[-1]\n",
        "    file_dest = os.path.join(dataset_path,row['set'],row['labels'],destination_file_name)\n",
        "\n",
        "    if os.path.exists(file_dest) == False:\n",
        "        shutil.copy2(file_path,file_dest)"
      ],
      "metadata": {
        "id": "HWGhJ3VUMPDR",
        "outputId": "f64e33c7-48e2-484b-c4e1-ab4fb418d68e",
        "colab": {
          "base_uri": "https://localhost:8080/",
          "height": 49,
          "referenced_widgets": [
            "c98f2fb4628a458e9e81ce8ef895ae5f",
            "1ee6329c967d47059dc4e3cbf158edca",
            "6c8fa24ec2ca4fafb16ab616d0525ed1",
            "8b3ad8e325df4b68a82e44bdc6663182",
            "ab961b2de6c14b1db2b0984dbdabc2a2",
            "87bb0b18f2e54565a46a58ab0fba4f78",
            "9c2e866554e945e1a5ddbd099c7b18c0",
            "b00ad66e2b1046c488fe68d9cca682d7",
            "c533b0a8cf604c929927894a8421367a",
            "6c2fd9a0726e411ba35deb3b41b3efe3",
            "285dd340c5a2402284a5389b48d5c3f7"
          ]
        }
      },
      "execution_count": 24,
      "outputs": [
        {
          "output_type": "display_data",
          "data": {
            "text/plain": [
              "0it [00:00, ?it/s]"
            ],
            "application/vnd.jupyter.widget-view+json": {
              "version_major": 2,
              "version_minor": 0,
              "model_id": "c98f2fb4628a458e9e81ce8ef895ae5f"
            }
          },
          "metadata": {}
        }
      ]
    },
    {
      "cell_type": "code",
      "source": [
        "df_all.head()"
      ],
      "metadata": {
        "id": "OK8I8yhVMW3v",
        "outputId": "aa033048-f0b3-46a7-9f25-16a93792b799",
        "colab": {
          "base_uri": "https://localhost:8080/",
          "height": 206
        }
      },
      "execution_count": 25,
      "outputs": [
        {
          "output_type": "execute_result",
          "data": {
            "text/plain": [
              "                                   path   labels    set\n",
              "0              DATA/VALID/valid_327.jpg    VALID  train\n",
              "1  DATA/INVALID/augmented_image_839.jpg  INVALID  train\n",
              "2  DATA/INVALID/augmented_image_409.jpg  INVALID  train\n",
              "3  DATA/INVALID/augmented_image_854.jpg  INVALID  train\n",
              "4  DATA/INVALID/augmented_image_603.jpg  INVALID  train"
            ],
            "text/html": [
              "\n",
              "  <div id=\"df-7557978d-9c4b-4f7c-b7f4-af1dd628b611\" class=\"colab-df-container\">\n",
              "    <div>\n",
              "<style scoped>\n",
              "    .dataframe tbody tr th:only-of-type {\n",
              "        vertical-align: middle;\n",
              "    }\n",
              "\n",
              "    .dataframe tbody tr th {\n",
              "        vertical-align: top;\n",
              "    }\n",
              "\n",
              "    .dataframe thead th {\n",
              "        text-align: right;\n",
              "    }\n",
              "</style>\n",
              "<table border=\"1\" class=\"dataframe\">\n",
              "  <thead>\n",
              "    <tr style=\"text-align: right;\">\n",
              "      <th></th>\n",
              "      <th>path</th>\n",
              "      <th>labels</th>\n",
              "      <th>set</th>\n",
              "    </tr>\n",
              "  </thead>\n",
              "  <tbody>\n",
              "    <tr>\n",
              "      <th>0</th>\n",
              "      <td>DATA/VALID/valid_327.jpg</td>\n",
              "      <td>VALID</td>\n",
              "      <td>train</td>\n",
              "    </tr>\n",
              "    <tr>\n",
              "      <th>1</th>\n",
              "      <td>DATA/INVALID/augmented_image_839.jpg</td>\n",
              "      <td>INVALID</td>\n",
              "      <td>train</td>\n",
              "    </tr>\n",
              "    <tr>\n",
              "      <th>2</th>\n",
              "      <td>DATA/INVALID/augmented_image_409.jpg</td>\n",
              "      <td>INVALID</td>\n",
              "      <td>train</td>\n",
              "    </tr>\n",
              "    <tr>\n",
              "      <th>3</th>\n",
              "      <td>DATA/INVALID/augmented_image_854.jpg</td>\n",
              "      <td>INVALID</td>\n",
              "      <td>train</td>\n",
              "    </tr>\n",
              "    <tr>\n",
              "      <th>4</th>\n",
              "      <td>DATA/INVALID/augmented_image_603.jpg</td>\n",
              "      <td>INVALID</td>\n",
              "      <td>train</td>\n",
              "    </tr>\n",
              "  </tbody>\n",
              "</table>\n",
              "</div>\n",
              "    <div class=\"colab-df-buttons\">\n",
              "\n",
              "  <div class=\"colab-df-container\">\n",
              "    <button class=\"colab-df-convert\" onclick=\"convertToInteractive('df-7557978d-9c4b-4f7c-b7f4-af1dd628b611')\"\n",
              "            title=\"Convert this dataframe to an interactive table.\"\n",
              "            style=\"display:none;\">\n",
              "\n",
              "  <svg xmlns=\"http://www.w3.org/2000/svg\" height=\"24px\" viewBox=\"0 -960 960 960\">\n",
              "    <path d=\"M120-120v-720h720v720H120Zm60-500h600v-160H180v160Zm220 220h160v-160H400v160Zm0 220h160v-160H400v160ZM180-400h160v-160H180v160Zm440 0h160v-160H620v160ZM180-180h160v-160H180v160Zm440 0h160v-160H620v160Z\"/>\n",
              "  </svg>\n",
              "    </button>\n",
              "\n",
              "  <style>\n",
              "    .colab-df-container {\n",
              "      display:flex;\n",
              "      gap: 12px;\n",
              "    }\n",
              "\n",
              "    .colab-df-convert {\n",
              "      background-color: #E8F0FE;\n",
              "      border: none;\n",
              "      border-radius: 50%;\n",
              "      cursor: pointer;\n",
              "      display: none;\n",
              "      fill: #1967D2;\n",
              "      height: 32px;\n",
              "      padding: 0 0 0 0;\n",
              "      width: 32px;\n",
              "    }\n",
              "\n",
              "    .colab-df-convert:hover {\n",
              "      background-color: #E2EBFA;\n",
              "      box-shadow: 0px 1px 2px rgba(60, 64, 67, 0.3), 0px 1px 3px 1px rgba(60, 64, 67, 0.15);\n",
              "      fill: #174EA6;\n",
              "    }\n",
              "\n",
              "    .colab-df-buttons div {\n",
              "      margin-bottom: 4px;\n",
              "    }\n",
              "\n",
              "    [theme=dark] .colab-df-convert {\n",
              "      background-color: #3B4455;\n",
              "      fill: #D2E3FC;\n",
              "    }\n",
              "\n",
              "    [theme=dark] .colab-df-convert:hover {\n",
              "      background-color: #434B5C;\n",
              "      box-shadow: 0px 1px 3px 1px rgba(0, 0, 0, 0.15);\n",
              "      filter: drop-shadow(0px 1px 2px rgba(0, 0, 0, 0.3));\n",
              "      fill: #FFFFFF;\n",
              "    }\n",
              "  </style>\n",
              "\n",
              "    <script>\n",
              "      const buttonEl =\n",
              "        document.querySelector('#df-7557978d-9c4b-4f7c-b7f4-af1dd628b611 button.colab-df-convert');\n",
              "      buttonEl.style.display =\n",
              "        google.colab.kernel.accessAllowed ? 'block' : 'none';\n",
              "\n",
              "      async function convertToInteractive(key) {\n",
              "        const element = document.querySelector('#df-7557978d-9c4b-4f7c-b7f4-af1dd628b611');\n",
              "        const dataTable =\n",
              "          await google.colab.kernel.invokeFunction('convertToInteractive',\n",
              "                                                    [key], {});\n",
              "        if (!dataTable) return;\n",
              "\n",
              "        const docLinkHtml = 'Like what you see? Visit the ' +\n",
              "          '<a target=\"_blank\" href=https://colab.research.google.com/notebooks/data_table.ipynb>data table notebook</a>'\n",
              "          + ' to learn more about interactive tables.';\n",
              "        element.innerHTML = '';\n",
              "        dataTable['output_type'] = 'display_data';\n",
              "        await google.colab.output.renderOutput(dataTable, element);\n",
              "        const docLink = document.createElement('div');\n",
              "        docLink.innerHTML = docLinkHtml;\n",
              "        element.appendChild(docLink);\n",
              "      }\n",
              "    </script>\n",
              "  </div>\n",
              "\n",
              "\n",
              "<div id=\"df-020f61b6-990f-4b6a-8bd9-d6ba54552711\">\n",
              "  <button class=\"colab-df-quickchart\" onclick=\"quickchart('df-020f61b6-990f-4b6a-8bd9-d6ba54552711')\"\n",
              "            title=\"Suggest charts\"\n",
              "            style=\"display:none;\">\n",
              "\n",
              "<svg xmlns=\"http://www.w3.org/2000/svg\" height=\"24px\"viewBox=\"0 0 24 24\"\n",
              "     width=\"24px\">\n",
              "    <g>\n",
              "        <path d=\"M19 3H5c-1.1 0-2 .9-2 2v14c0 1.1.9 2 2 2h14c1.1 0 2-.9 2-2V5c0-1.1-.9-2-2-2zM9 17H7v-7h2v7zm4 0h-2V7h2v10zm4 0h-2v-4h2v4z\"/>\n",
              "    </g>\n",
              "</svg>\n",
              "  </button>\n",
              "\n",
              "<style>\n",
              "  .colab-df-quickchart {\n",
              "      --bg-color: #E8F0FE;\n",
              "      --fill-color: #1967D2;\n",
              "      --hover-bg-color: #E2EBFA;\n",
              "      --hover-fill-color: #174EA6;\n",
              "      --disabled-fill-color: #AAA;\n",
              "      --disabled-bg-color: #DDD;\n",
              "  }\n",
              "\n",
              "  [theme=dark] .colab-df-quickchart {\n",
              "      --bg-color: #3B4455;\n",
              "      --fill-color: #D2E3FC;\n",
              "      --hover-bg-color: #434B5C;\n",
              "      --hover-fill-color: #FFFFFF;\n",
              "      --disabled-bg-color: #3B4455;\n",
              "      --disabled-fill-color: #666;\n",
              "  }\n",
              "\n",
              "  .colab-df-quickchart {\n",
              "    background-color: var(--bg-color);\n",
              "    border: none;\n",
              "    border-radius: 50%;\n",
              "    cursor: pointer;\n",
              "    display: none;\n",
              "    fill: var(--fill-color);\n",
              "    height: 32px;\n",
              "    padding: 0;\n",
              "    width: 32px;\n",
              "  }\n",
              "\n",
              "  .colab-df-quickchart:hover {\n",
              "    background-color: var(--hover-bg-color);\n",
              "    box-shadow: 0 1px 2px rgba(60, 64, 67, 0.3), 0 1px 3px 1px rgba(60, 64, 67, 0.15);\n",
              "    fill: var(--button-hover-fill-color);\n",
              "  }\n",
              "\n",
              "  .colab-df-quickchart-complete:disabled,\n",
              "  .colab-df-quickchart-complete:disabled:hover {\n",
              "    background-color: var(--disabled-bg-color);\n",
              "    fill: var(--disabled-fill-color);\n",
              "    box-shadow: none;\n",
              "  }\n",
              "\n",
              "  .colab-df-spinner {\n",
              "    border: 2px solid var(--fill-color);\n",
              "    border-color: transparent;\n",
              "    border-bottom-color: var(--fill-color);\n",
              "    animation:\n",
              "      spin 1s steps(1) infinite;\n",
              "  }\n",
              "\n",
              "  @keyframes spin {\n",
              "    0% {\n",
              "      border-color: transparent;\n",
              "      border-bottom-color: var(--fill-color);\n",
              "      border-left-color: var(--fill-color);\n",
              "    }\n",
              "    20% {\n",
              "      border-color: transparent;\n",
              "      border-left-color: var(--fill-color);\n",
              "      border-top-color: var(--fill-color);\n",
              "    }\n",
              "    30% {\n",
              "      border-color: transparent;\n",
              "      border-left-color: var(--fill-color);\n",
              "      border-top-color: var(--fill-color);\n",
              "      border-right-color: var(--fill-color);\n",
              "    }\n",
              "    40% {\n",
              "      border-color: transparent;\n",
              "      border-right-color: var(--fill-color);\n",
              "      border-top-color: var(--fill-color);\n",
              "    }\n",
              "    60% {\n",
              "      border-color: transparent;\n",
              "      border-right-color: var(--fill-color);\n",
              "    }\n",
              "    80% {\n",
              "      border-color: transparent;\n",
              "      border-right-color: var(--fill-color);\n",
              "      border-bottom-color: var(--fill-color);\n",
              "    }\n",
              "    90% {\n",
              "      border-color: transparent;\n",
              "      border-bottom-color: var(--fill-color);\n",
              "    }\n",
              "  }\n",
              "</style>\n",
              "\n",
              "  <script>\n",
              "    async function quickchart(key) {\n",
              "      const quickchartButtonEl =\n",
              "        document.querySelector('#' + key + ' button');\n",
              "      quickchartButtonEl.disabled = true;  // To prevent multiple clicks.\n",
              "      quickchartButtonEl.classList.add('colab-df-spinner');\n",
              "      try {\n",
              "        const charts = await google.colab.kernel.invokeFunction(\n",
              "            'suggestCharts', [key], {});\n",
              "      } catch (error) {\n",
              "        console.error('Error during call to suggestCharts:', error);\n",
              "      }\n",
              "      quickchartButtonEl.classList.remove('colab-df-spinner');\n",
              "      quickchartButtonEl.classList.add('colab-df-quickchart-complete');\n",
              "    }\n",
              "    (() => {\n",
              "      let quickchartButtonEl =\n",
              "        document.querySelector('#df-020f61b6-990f-4b6a-8bd9-d6ba54552711 button');\n",
              "      quickchartButtonEl.style.display =\n",
              "        google.colab.kernel.accessAllowed ? 'block' : 'none';\n",
              "    })();\n",
              "  </script>\n",
              "</div>\n",
              "\n",
              "    </div>\n",
              "  </div>\n"
            ],
            "application/vnd.google.colaboratory.intrinsic+json": {
              "type": "dataframe",
              "variable_name": "df_all",
              "summary": "{\n  \"name\": \"df_all\",\n  \"rows\": 2504,\n  \"fields\": [\n    {\n      \"column\": \"path\",\n      \"properties\": {\n        \"dtype\": \"string\",\n        \"num_unique_values\": 2504,\n        \"samples\": [\n          \"DATA/VALID/valid_620.jpg\",\n          \"DATA/VALID/valid_552.jpg\",\n          \"DATA/VALID/valid_421.jpg\"\n        ],\n        \"semantic_type\": \"\",\n        \"description\": \"\"\n      }\n    },\n    {\n      \"column\": \"labels\",\n      \"properties\": {\n        \"dtype\": \"category\",\n        \"num_unique_values\": 2,\n        \"samples\": [\n          \"INVALID\",\n          \"VALID\"\n        ],\n        \"semantic_type\": \"\",\n        \"description\": \"\"\n      }\n    },\n    {\n      \"column\": \"set\",\n      \"properties\": {\n        \"dtype\": \"category\",\n        \"num_unique_values\": 2,\n        \"samples\": [\n          \"test\",\n          \"train\"\n        ],\n        \"semantic_type\": \"\",\n        \"description\": \"\"\n      }\n    }\n  ]\n}"
            }
          },
          "metadata": {},
          "execution_count": 25
        }
      ]
    },
    {
      "cell_type": "code",
      "source": [
        "TRAIN_DIR = \"Dataset-Final/train/\"\n",
        "TEST_DIR = \"Dataset-Final/test/\"\n",
        "\n",
        "train_gempabumi = os.path.join(TRAIN_DIR, \"GEMPABUMI\")\n",
        "train_banjir = os.path.join(TRAIN_DIR, \"BANJIR\")\n",
        "train_tsunami = os.path.join(TRAIN_DIR, \"TSUNAMI\")\n",
        "train_tanah_longsor = os.path.join(TRAIN_DIR, \"TANAHLONGSOR\")\n",
        "\n",
        "test_gempabumi = os.path.join(TEST_DIR, \"GEMPABUMI\")\n",
        "test_banjir = os.path.join(TEST_DIR, \"BANJIR\")\n",
        "test_tsunami = os.path.join(TEST_DIR, \"TSUNAMI\")\n",
        "test_tanah_longsor = os.path.join(TEST_DIR, \"TANAHLONGSOR\")"
      ],
      "metadata": {
        "id": "1XpG_XItMcz1"
      },
      "execution_count": null,
      "outputs": []
    }
  ],
  "metadata": {
    "language_info": {
      "name": "python"
    },
    "colab": {
      "provenance": [],
      "gpuType": "T4"
    },
    "kernelspec": {
      "name": "python3",
      "display_name": "Python 3"
    },
    "accelerator": "GPU",
    "widgets": {
      "application/vnd.jupyter.widget-state+json": {
        "c98f2fb4628a458e9e81ce8ef895ae5f": {
          "model_module": "@jupyter-widgets/controls",
          "model_name": "HBoxModel",
          "model_module_version": "1.5.0",
          "state": {
            "_dom_classes": [],
            "_model_module": "@jupyter-widgets/controls",
            "_model_module_version": "1.5.0",
            "_model_name": "HBoxModel",
            "_view_count": null,
            "_view_module": "@jupyter-widgets/controls",
            "_view_module_version": "1.5.0",
            "_view_name": "HBoxView",
            "box_style": "",
            "children": [
              "IPY_MODEL_1ee6329c967d47059dc4e3cbf158edca",
              "IPY_MODEL_6c8fa24ec2ca4fafb16ab616d0525ed1",
              "IPY_MODEL_8b3ad8e325df4b68a82e44bdc6663182"
            ],
            "layout": "IPY_MODEL_ab961b2de6c14b1db2b0984dbdabc2a2"
          }
        },
        "1ee6329c967d47059dc4e3cbf158edca": {
          "model_module": "@jupyter-widgets/controls",
          "model_name": "HTMLModel",
          "model_module_version": "1.5.0",
          "state": {
            "_dom_classes": [],
            "_model_module": "@jupyter-widgets/controls",
            "_model_module_version": "1.5.0",
            "_model_name": "HTMLModel",
            "_view_count": null,
            "_view_module": "@jupyter-widgets/controls",
            "_view_module_version": "1.5.0",
            "_view_name": "HTMLView",
            "description": "",
            "description_tooltip": null,
            "layout": "IPY_MODEL_87bb0b18f2e54565a46a58ab0fba4f78",
            "placeholder": "​",
            "style": "IPY_MODEL_9c2e866554e945e1a5ddbd099c7b18c0",
            "value": ""
          }
        },
        "6c8fa24ec2ca4fafb16ab616d0525ed1": {
          "model_module": "@jupyter-widgets/controls",
          "model_name": "FloatProgressModel",
          "model_module_version": "1.5.0",
          "state": {
            "_dom_classes": [],
            "_model_module": "@jupyter-widgets/controls",
            "_model_module_version": "1.5.0",
            "_model_name": "FloatProgressModel",
            "_view_count": null,
            "_view_module": "@jupyter-widgets/controls",
            "_view_module_version": "1.5.0",
            "_view_name": "ProgressView",
            "bar_style": "success",
            "description": "",
            "description_tooltip": null,
            "layout": "IPY_MODEL_b00ad66e2b1046c488fe68d9cca682d7",
            "max": 1,
            "min": 0,
            "orientation": "horizontal",
            "style": "IPY_MODEL_c533b0a8cf604c929927894a8421367a",
            "value": 1
          }
        },
        "8b3ad8e325df4b68a82e44bdc6663182": {
          "model_module": "@jupyter-widgets/controls",
          "model_name": "HTMLModel",
          "model_module_version": "1.5.0",
          "state": {
            "_dom_classes": [],
            "_model_module": "@jupyter-widgets/controls",
            "_model_module_version": "1.5.0",
            "_model_name": "HTMLModel",
            "_view_count": null,
            "_view_module": "@jupyter-widgets/controls",
            "_view_module_version": "1.5.0",
            "_view_name": "HTMLView",
            "description": "",
            "description_tooltip": null,
            "layout": "IPY_MODEL_6c2fd9a0726e411ba35deb3b41b3efe3",
            "placeholder": "​",
            "style": "IPY_MODEL_285dd340c5a2402284a5389b48d5c3f7",
            "value": " 2504/? [00:01&lt;00:00, 2036.83it/s]"
          }
        },
        "ab961b2de6c14b1db2b0984dbdabc2a2": {
          "model_module": "@jupyter-widgets/base",
          "model_name": "LayoutModel",
          "model_module_version": "1.2.0",
          "state": {
            "_model_module": "@jupyter-widgets/base",
            "_model_module_version": "1.2.0",
            "_model_name": "LayoutModel",
            "_view_count": null,
            "_view_module": "@jupyter-widgets/base",
            "_view_module_version": "1.2.0",
            "_view_name": "LayoutView",
            "align_content": null,
            "align_items": null,
            "align_self": null,
            "border": null,
            "bottom": null,
            "display": null,
            "flex": null,
            "flex_flow": null,
            "grid_area": null,
            "grid_auto_columns": null,
            "grid_auto_flow": null,
            "grid_auto_rows": null,
            "grid_column": null,
            "grid_gap": null,
            "grid_row": null,
            "grid_template_areas": null,
            "grid_template_columns": null,
            "grid_template_rows": null,
            "height": null,
            "justify_content": null,
            "justify_items": null,
            "left": null,
            "margin": null,
            "max_height": null,
            "max_width": null,
            "min_height": null,
            "min_width": null,
            "object_fit": null,
            "object_position": null,
            "order": null,
            "overflow": null,
            "overflow_x": null,
            "overflow_y": null,
            "padding": null,
            "right": null,
            "top": null,
            "visibility": null,
            "width": null
          }
        },
        "87bb0b18f2e54565a46a58ab0fba4f78": {
          "model_module": "@jupyter-widgets/base",
          "model_name": "LayoutModel",
          "model_module_version": "1.2.0",
          "state": {
            "_model_module": "@jupyter-widgets/base",
            "_model_module_version": "1.2.0",
            "_model_name": "LayoutModel",
            "_view_count": null,
            "_view_module": "@jupyter-widgets/base",
            "_view_module_version": "1.2.0",
            "_view_name": "LayoutView",
            "align_content": null,
            "align_items": null,
            "align_self": null,
            "border": null,
            "bottom": null,
            "display": null,
            "flex": null,
            "flex_flow": null,
            "grid_area": null,
            "grid_auto_columns": null,
            "grid_auto_flow": null,
            "grid_auto_rows": null,
            "grid_column": null,
            "grid_gap": null,
            "grid_row": null,
            "grid_template_areas": null,
            "grid_template_columns": null,
            "grid_template_rows": null,
            "height": null,
            "justify_content": null,
            "justify_items": null,
            "left": null,
            "margin": null,
            "max_height": null,
            "max_width": null,
            "min_height": null,
            "min_width": null,
            "object_fit": null,
            "object_position": null,
            "order": null,
            "overflow": null,
            "overflow_x": null,
            "overflow_y": null,
            "padding": null,
            "right": null,
            "top": null,
            "visibility": null,
            "width": null
          }
        },
        "9c2e866554e945e1a5ddbd099c7b18c0": {
          "model_module": "@jupyter-widgets/controls",
          "model_name": "DescriptionStyleModel",
          "model_module_version": "1.5.0",
          "state": {
            "_model_module": "@jupyter-widgets/controls",
            "_model_module_version": "1.5.0",
            "_model_name": "DescriptionStyleModel",
            "_view_count": null,
            "_view_module": "@jupyter-widgets/base",
            "_view_module_version": "1.2.0",
            "_view_name": "StyleView",
            "description_width": ""
          }
        },
        "b00ad66e2b1046c488fe68d9cca682d7": {
          "model_module": "@jupyter-widgets/base",
          "model_name": "LayoutModel",
          "model_module_version": "1.2.0",
          "state": {
            "_model_module": "@jupyter-widgets/base",
            "_model_module_version": "1.2.0",
            "_model_name": "LayoutModel",
            "_view_count": null,
            "_view_module": "@jupyter-widgets/base",
            "_view_module_version": "1.2.0",
            "_view_name": "LayoutView",
            "align_content": null,
            "align_items": null,
            "align_self": null,
            "border": null,
            "bottom": null,
            "display": null,
            "flex": null,
            "flex_flow": null,
            "grid_area": null,
            "grid_auto_columns": null,
            "grid_auto_flow": null,
            "grid_auto_rows": null,
            "grid_column": null,
            "grid_gap": null,
            "grid_row": null,
            "grid_template_areas": null,
            "grid_template_columns": null,
            "grid_template_rows": null,
            "height": null,
            "justify_content": null,
            "justify_items": null,
            "left": null,
            "margin": null,
            "max_height": null,
            "max_width": null,
            "min_height": null,
            "min_width": null,
            "object_fit": null,
            "object_position": null,
            "order": null,
            "overflow": null,
            "overflow_x": null,
            "overflow_y": null,
            "padding": null,
            "right": null,
            "top": null,
            "visibility": null,
            "width": "20px"
          }
        },
        "c533b0a8cf604c929927894a8421367a": {
          "model_module": "@jupyter-widgets/controls",
          "model_name": "ProgressStyleModel",
          "model_module_version": "1.5.0",
          "state": {
            "_model_module": "@jupyter-widgets/controls",
            "_model_module_version": "1.5.0",
            "_model_name": "ProgressStyleModel",
            "_view_count": null,
            "_view_module": "@jupyter-widgets/base",
            "_view_module_version": "1.2.0",
            "_view_name": "StyleView",
            "bar_color": null,
            "description_width": ""
          }
        },
        "6c2fd9a0726e411ba35deb3b41b3efe3": {
          "model_module": "@jupyter-widgets/base",
          "model_name": "LayoutModel",
          "model_module_version": "1.2.0",
          "state": {
            "_model_module": "@jupyter-widgets/base",
            "_model_module_version": "1.2.0",
            "_model_name": "LayoutModel",
            "_view_count": null,
            "_view_module": "@jupyter-widgets/base",
            "_view_module_version": "1.2.0",
            "_view_name": "LayoutView",
            "align_content": null,
            "align_items": null,
            "align_self": null,
            "border": null,
            "bottom": null,
            "display": null,
            "flex": null,
            "flex_flow": null,
            "grid_area": null,
            "grid_auto_columns": null,
            "grid_auto_flow": null,
            "grid_auto_rows": null,
            "grid_column": null,
            "grid_gap": null,
            "grid_row": null,
            "grid_template_areas": null,
            "grid_template_columns": null,
            "grid_template_rows": null,
            "height": null,
            "justify_content": null,
            "justify_items": null,
            "left": null,
            "margin": null,
            "max_height": null,
            "max_width": null,
            "min_height": null,
            "min_width": null,
            "object_fit": null,
            "object_position": null,
            "order": null,
            "overflow": null,
            "overflow_x": null,
            "overflow_y": null,
            "padding": null,
            "right": null,
            "top": null,
            "visibility": null,
            "width": null
          }
        },
        "285dd340c5a2402284a5389b48d5c3f7": {
          "model_module": "@jupyter-widgets/controls",
          "model_name": "DescriptionStyleModel",
          "model_module_version": "1.5.0",
          "state": {
            "_model_module": "@jupyter-widgets/controls",
            "_model_module_version": "1.5.0",
            "_model_name": "DescriptionStyleModel",
            "_view_count": null,
            "_view_module": "@jupyter-widgets/base",
            "_view_module_version": "1.2.0",
            "_view_name": "StyleView",
            "description_width": ""
          }
        }
      }
    }
  },
  "nbformat": 4,
  "nbformat_minor": 0
}