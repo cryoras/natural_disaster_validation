{
  "cells": [
    {
      "cell_type": "markdown",
      "source": [
        "# scraping"
      ],
      "metadata": {
        "id": "SXIGon_mSYej"
      }
    },
    {
      "cell_type": "code",
      "execution_count": 1,
      "metadata": {
        "id": "cDZsG1d0SXIj"
      },
      "outputs": [],
      "source": [
        "# !pip install bing-image-downloader"
      ]
    },
    {
      "cell_type": "code",
      "source": [
        "# from bing_image_downloader import downloader\n",
        "# downloader.download(\"banjir\", limit=500,  output_dir='dataset/', adult_filter_off=True, force_replace=False, timeout=60, verbose=True)"
      ],
      "metadata": {
        "id": "9K-oF0efXzMA"
      },
      "execution_count": 2,
      "outputs": []
    },
    {
      "cell_type": "code",
      "source": [
        "# downloader.download(\"gempa\", limit=500,  output_dir='dataset/', adult_filter_off=True, force_replace=False, timeout=60, verbose=True)"
      ],
      "metadata": {
        "id": "s0Q80XvOaiXB"
      },
      "execution_count": 3,
      "outputs": []
    },
    {
      "cell_type": "code",
      "source": [
        "# downloader.download(\"tanah longsor\", limit=500,  output_dir='dataset/', adult_filter_off=True, force_replace=False, timeout=60, verbose=True)"
      ],
      "metadata": {
        "id": "UiG2Qq8idTK-"
      },
      "execution_count": 4,
      "outputs": []
    },
    {
      "cell_type": "code",
      "source": [
        "# downloader.download(\"tsunami\", limit=500,  output_dir='dataset/', adult_filter_off=True, force_replace=False, timeout=60, verbose=True)"
      ],
      "metadata": {
        "id": "f1pudfN4iEvw"
      },
      "execution_count": 5,
      "outputs": []
    },
    {
      "cell_type": "code",
      "source": [
        "# downloader.download(\"random\", limit=500,  output_dir='dataset/', adult_filter_off=True, force_replace=False, timeout=60, verbose=True)"
      ],
      "metadata": {
        "id": "oRveV_HiiBoJ"
      },
      "execution_count": 6,
      "outputs": []
    },
    {
      "cell_type": "code",
      "source": [
        "from google.colab import drive\n",
        "drive.mount('/content/drive')"
      ],
      "metadata": {
        "id": "k75Eet8XiNqo",
        "outputId": "318e8355-517d-4b7a-a668-5ae74448b5a2",
        "colab": {
          "base_uri": "https://localhost:8080/"
        }
      },
      "execution_count": 1,
      "outputs": [
        {
          "output_type": "stream",
          "name": "stdout",
          "text": [
            "Mounted at /content/drive\n"
          ]
        }
      ]
    },
    {
      "cell_type": "code",
      "source": [
        "# !cp -r /content/dataset/ /content/drive/MyDrive/dataset"
      ],
      "metadata": {
        "id": "eSoiwGrWilxM"
      },
      "execution_count": 8,
      "outputs": []
    },
    {
      "cell_type": "code",
      "source": [
        "!cp -r /content/drive/MyDrive/dataset/ /content/pre-data/"
      ],
      "metadata": {
        "id": "NJKoyPxaDLMk"
      },
      "execution_count": 2,
      "outputs": []
    },
    {
      "cell_type": "code",
      "source": [
        "import os\n",
        "import shutil\n",
        "\n",
        "# Direktori asal dan tujuan\n",
        "source_dir = \"pre-data/\"\n",
        "dest_valid = \"DATA/VALID\"\n",
        "dest_invalid = \"DATA/INVALID\"\n",
        "\n",
        "os.makedirs(dest_valid, exist_ok=True)\n",
        "os.makedirs(dest_invalid, exist_ok=True)\n",
        "\n",
        "\n",
        "valid_categories = [\"banjir\", \"gempa\", \"tanah longsor\", \"tsunami\"]\n",
        "invalid_category = \"random\"\n",
        "\n",
        "\n",
        "for category in valid_categories:\n",
        "    category_path = os.path.join(source_dir, category)\n",
        "    if os.path.exists(category_path):\n",
        "        for file_name in os.listdir(category_path):\n",
        "            file_path = os.path.join(category_path, file_name)\n",
        "            if os.path.isfile(file_path):\n",
        "                new_file_name = f\"{category}_{file_name}\"\n",
        "                shutil.move(file_path, os.path.join(dest_valid, new_file_name))\n",
        "\n",
        "invalid_path = os.path.join(source_dir, invalid_category)\n",
        "if os.path.exists(invalid_path):\n",
        "    for file_name in os.listdir(invalid_path):\n",
        "        file_path = os.path.join(invalid_path, file_name)\n",
        "        if os.path.isfile(file_path):\n",
        "            new_file_name = f\"random_{file_name}\"\n",
        "            shutil.move(file_path, os.path.join(dest_invalid, new_file_name))"
      ],
      "metadata": {
        "id": "Hz_vfyWwIcN9"
      },
      "execution_count": 9,
      "outputs": []
    },
    {
      "cell_type": "code",
      "source": [
        "dest_valid = \"DATA/VALID\"\n",
        "dest_invalid = \"DATA/INVALID\"\n",
        "\n",
        "# Rename file di DATA/VALID\n",
        "valid_files = sorted(os.listdir(dest_valid))\n",
        "for i, file_name in enumerate(valid_files, start=1):\n",
        "    old_path = os.path.join(dest_valid, file_name)\n",
        "    new_path = os.path.join(dest_valid, f\"valid_{i}.jpg\")\n",
        "    os.rename(old_path, new_path)\n",
        "\n",
        "# Rename file di DATA/INVALID\n",
        "invalid_files = sorted(os.listdir(dest_invalid))\n",
        "for i, file_name in enumerate(invalid_files, start=1):\n",
        "    old_path = os.path.join(dest_invalid, file_name)\n",
        "    new_path = os.path.join(dest_invalid, f\"invalid_{i}.jpg\")\n",
        "    os.rename(old_path, new_path)\n",
        "\n",
        "print(\"Rename selesai untuk semua file di VALID dan INVALID!\")"
      ],
      "metadata": {
        "colab": {
          "base_uri": "https://localhost:8080/"
        },
        "id": "CeIAKKSwIfbE",
        "outputId": "dbf401b3-fe41-43cf-806e-f6e3d500b3df"
      },
      "execution_count": 4,
      "outputs": [
        {
          "output_type": "stream",
          "name": "stdout",
          "text": [
            "Rename selesai untuk semua file di VALID dan INVALID!\n"
          ]
        }
      ]
    },
    {
      "cell_type": "code",
      "source": [
        "import numpy as np\n",
        "import pandas as pd\n",
        "import warnings\n",
        "import matplotlib.pyplot as plt\n",
        "import seaborn as sns\n",
        "import random\n",
        "from random import sample\n",
        "from shutil import copyfile\n",
        "from pathlib import Path\n",
        "from tqdm.notebook import tqdm as tq\n",
        "warnings.simplefilter(action='ignore', category=FutureWarning)\n",
        "from google.colab import files\n",
        "\n",
        "import cv2\n",
        "import skimage\n",
        "from PIL import Image\n",
        "from skimage import io\n",
        "from skimage.transform import resize\n",
        "from skimage.transform import rotate, AffineTransform, warp\n",
        "from skimage import img_as_ubyte\n",
        "from skimage.exposure import adjust_gamma\n",
        "from skimage.util import random_noise\n",
        "\n",
        "import keras\n",
        "import tensorflow as tf\n",
        "from sklearn.model_selection import train_test_split\n",
        "from sklearn.metrics import confusion_matrix, classification_report\n",
        "from tensorflow.keras import Model, layers\n",
        "from tensorflow.keras.preprocessing import image\n",
        "from tensorflow.keras.preprocessing.image import ImageDataGenerator, img_to_array, load_img\n",
        "from tensorflow.keras.optimizers import Adam, RMSprop, SGD\n",
        "from tensorflow.keras.layers import InputLayer, Conv2D, SeparableConv2D, MaxPooling2D, MaxPool2D, Dense, Flatten, Dropout, BatchNormalization\n",
        "from tensorflow.keras.models import Sequential, Model\n",
        "from tensorflow.keras.utils import to_categorical\n",
        "from tensorflow.keras.callbacks import ModelCheckpoint, Callback, EarlyStopping, ReduceLROnPlateau\n",
        "from tensorflow.keras.models import load_model\n"
      ],
      "metadata": {
        "id": "c0JRZPs-JJyP"
      },
      "execution_count": 6,
      "outputs": []
    },
    {
      "cell_type": "code",
      "source": [
        "ND_path = \"DATA\"\n",
        "file_name = []\n",
        "labels = []\n",
        "full_path = []\n",
        "for path, subdirs, files in os.walk(ND_path):\n",
        "    for name in files:\n",
        "        full_path.append(os.path.join(path, name))\n",
        "        labels.append(path.split('/')[-1])\n",
        "        file_name.append(name)\n",
        "\n",
        "distribution_train = pd.DataFrame({\"path\":full_path, 'file_name':file_name, \"labels\":labels})\n",
        "\n",
        "# Plot distribusi gambar di setiap kelas\n",
        "Label = distribution_train['labels']\n",
        "plt.figure(figsize = (6,6))\n",
        "sns.set_style(\"darkgrid\")\n",
        "plot_data = sns.countplot(Label)"
      ],
      "metadata": {
        "colab": {
          "base_uri": "https://localhost:8080/",
          "height": 528
        },
        "id": "_KNZlZBtIrFD",
        "outputId": "9dae5203-e1e6-431b-aeb0-d0100239e80d"
      },
      "execution_count": 8,
      "outputs": [
        {
          "output_type": "display_data",
          "data": {
            "text/plain": [
              "<Figure size 600x600 with 1 Axes>"
            ],
            "image/png": "[encoded data removed]"
          },
          "metadata": {}
        }
      ]
    },
    {
      "cell_type": "code",
      "source": [
        "valid = \"DATA/VALID\"  # Ganti dengan path folder yang ingin dihitung\n",
        "file_count = len([f for f in os.listdir(valid) if os.path.isfile(os.path.join(valid, f))])\n",
        "print(f\"Jumlah file di {valid}: {file_count}\")\n",
        "\n",
        "invalid = \"DATA/INVALID\"\n",
        "file_count = len([f for f in os.listdir(invalid) if os.path.isfile(os.path.join(invalid, f))])\n",
        "print(f\"Jumlah file di {invalid}: {file_count}\")\n"
      ],
      "metadata": {
        "colab": {
          "base_uri": "https://localhost:8080/"
        },
        "id": "rGYWpSNhKEsi",
        "outputId": "efc0ec98-9d98-4852-86ae-b743ec7e0f85"
      },
      "execution_count": 14,
      "outputs": [
        {
          "output_type": "stream",
          "name": "stdout",
          "text": [
            "Jumlah file di DATA/VALID: 0\n",
            "Jumlah file di DATA/INVALID: 0\n"
          ]
        }
      ]
    },
    {
      "cell_type": "code",
      "source": [
        "def anticlockwise_rotation(img):\n",
        "    img = cv2.cvtColor(img, 0)\n",
        "    img = cv2.resize(img, (224,224))\n",
        "    sudut = random.randint(0,180)\n",
        "    return rotate(img, sudut)\n",
        "\n",
        "def clockwise_rotation(img):\n",
        "    img = cv2.cvtColor(img, 0)\n",
        "    img = cv2.resize(img, (224,224))\n",
        "    sudut = random.randint(0,180)\n",
        "    return rotate(img, -sudut)\n",
        "\n",
        "def flip_up_down(img):\n",
        "    img = cv2.cvtColor(img, 0)\n",
        "    img = cv2.resize(img, (224,224))\n",
        "    return np.flipud(img)\n",
        "\n",
        "def add_brightness(img):\n",
        "    img = cv2.cvtColor(img, 0)\n",
        "    img = cv2.resize(img, (224,224))\n",
        "    img = adjust_gamma(img, gamma=0.5,gain=1)\n",
        "    return img\n",
        "\n",
        "def blur_image(img):\n",
        "    img = cv2.cvtColor(img, 0)\n",
        "    img = cv2.resize(img, (224,224))\n",
        "    return cv2.GaussianBlur(img, (9,9),0)\n",
        "\n",
        "def sheared(img):\n",
        "    img = cv2.cvtColor(img, 0)\n",
        "    img = cv2.resize(img, (224,224))\n",
        "    transform = AffineTransform(shear=0.2)\n",
        "    shear_image = warp(img, transform, mode=\"wrap\")\n",
        "    return shear_image\n",
        "\n",
        "def warp_shift(img):\n",
        "    img = cv2.cvtColor(img, 0)\n",
        "    img = cv2.resize(img, (224,224))\n",
        "    transform = AffineTransform(translation=(0,40))\n",
        "    warp_image = warp(img, transform, mode=\"wrap\")\n",
        "    return warp_image"
      ],
      "metadata": {
        "id": "N5LUijEvKnW5"
      },
      "execution_count": 15,
      "outputs": []
    },
    {
      "cell_type": "code",
      "source": [
        "transformations = { 'rotate anticlockwise': anticlockwise_rotation,\n",
        "                    'rotate clockwise': clockwise_rotation,\n",
        "                    'warp shift': warp_shift,\n",
        "                    'blurring image': blur_image,\n",
        "                    'add brightness' : add_brightness,\n",
        "                    'flip up down': flip_up_down,\n",
        "                    'shear image': sheared\n",
        "                  }"
      ],
      "metadata": {
        "id": "iJGOAQDtKpWL"
      },
      "execution_count": 16,
      "outputs": []
    },
    {
      "cell_type": "code",
      "source": [
        "images_path = \"DATA/INVALID\"\n",
        "augmented_path = \"DATA/INVALID\"\n",
        "images=[]\n",
        "\n",
        "for im in os.listdir(images_path):\n",
        "    images.append(os.path.join(images_path,im))\n",
        "\n",
        "images_to_generate=862\n",
        "i=1\n",
        "\n",
        "while i<=images_to_generate:\n",
        "    image=random.choice(images)\n",
        "    try:\n",
        "        original_image = io.imread(image)\n",
        "        transformed_image=None\n",
        "        n = 0      # Variabel untuk melakukan iterasi sampai jumlah transformasi yang akan diterapkan\n",
        "        transformation_count = random.randint(1, len(transformations)) # Pilih jumlah transformasi acak yang akan diterapkan pada gambar\n",
        "\n",
        "        while n <= transformation_count:\n",
        "            key = random.choice(list(transformations)) # Secara acak memilih dan memanggil metode\n",
        "            transformed_image = transformations[key](original_image)\n",
        "            n = n + 1\n",
        "\n",
        "        new_image_path= \"%s/augmented_image_%s.jpg\" %(augmented_path, i)\n",
        "        transformed_image = img_as_ubyte(transformed_image)  # Mengonversi gambar ke format byte yang tidak ditandatangani, dengan nilai dalam [0, 255]\n",
        "        cv2.imwrite(new_image_path, transformed_image)  # Simpan hasil transformasi augmentasi pada gambar ke path yang ditentukan\n",
        "        i =i+1\n",
        "    except ValueError as e:\n",
        "        print('could not read the',image ,':',e,'hence skipping it.')"
      ],
      "metadata": {
        "colab": {
          "base_uri": "https://localhost:8080/",
          "height": 351
        },
        "id": "tiNudxByKwil",
        "outputId": "a469a768-cec4-4626-a0e2-850c51d02f70"
      },
      "execution_count": 17,
      "outputs": [
        {
          "output_type": "error",
          "ename": "IndexError",
          "evalue": "Cannot choose from an empty sequence",
          "traceback": [
            "\u001b[0;31m---------------------------------------------------------------------------\u001b[0m",
            "\u001b[0;31mIndexError\u001b[0m                                Traceback (most recent call last)",
            "\u001b[0;32m<ipython-input-17-d8c21a153e2e>\u001b[0m in \u001b[0;36m<cell line: 0>\u001b[0;34m()\u001b[0m\n\u001b[1;32m     10\u001b[0m \u001b[0;34m\u001b[0m\u001b[0m\n\u001b[1;32m     11\u001b[0m \u001b[0;32mwhile\u001b[0m \u001b[0mi\u001b[0m\u001b[0;34m<=\u001b[0m\u001b[0mimages_to_generate\u001b[0m\u001b[0;34m:\u001b[0m\u001b[0;34m\u001b[0m\u001b[0;34m\u001b[0m\u001b[0m\n\u001b[0;32m---> 12\u001b[0;31m     \u001b[0mimage\u001b[0m\u001b[0;34m=\u001b[0m\u001b[0mrandom\u001b[0m\u001b[0;34m.\u001b[0m\u001b[0mchoice\u001b[0m\u001b[0;34m(\u001b[0m\u001b[0mimages\u001b[0m\u001b[0;34m)\u001b[0m\u001b[0;34m\u001b[0m\u001b[0;34m\u001b[0m\u001b[0m\n\u001b[0m\u001b[1;32m     13\u001b[0m     \u001b[0;32mtry\u001b[0m\u001b[0;34m:\u001b[0m\u001b[0;34m\u001b[0m\u001b[0;34m\u001b[0m\u001b[0m\n\u001b[1;32m     14\u001b[0m         \u001b[0moriginal_image\u001b[0m \u001b[0;34m=\u001b[0m \u001b[0mio\u001b[0m\u001b[0;34m.\u001b[0m\u001b[0mimread\u001b[0m\u001b[0;34m(\u001b[0m\u001b[0mimage\u001b[0m\u001b[0;34m)\u001b[0m\u001b[0;34m\u001b[0m\u001b[0;34m\u001b[0m\u001b[0m\n",
            "\u001b[0;32m/usr/lib/python3.11/random.py\u001b[0m in \u001b[0;36mchoice\u001b[0;34m(self, seq)\u001b[0m\n\u001b[1;32m    371\u001b[0m         \u001b[0;31m# because bool(numpy.array()) raises a ValueError.\u001b[0m\u001b[0;34m\u001b[0m\u001b[0;34m\u001b[0m\u001b[0m\n\u001b[1;32m    372\u001b[0m         \u001b[0;32mif\u001b[0m \u001b[0;32mnot\u001b[0m \u001b[0mlen\u001b[0m\u001b[0;34m(\u001b[0m\u001b[0mseq\u001b[0m\u001b[0;34m)\u001b[0m\u001b[0;34m:\u001b[0m\u001b[0;34m\u001b[0m\u001b[0;34m\u001b[0m\u001b[0m\n\u001b[0;32m--> 373\u001b[0;31m             \u001b[0;32mraise\u001b[0m \u001b[0mIndexError\u001b[0m\u001b[0;34m(\u001b[0m\u001b[0;34m'Cannot choose from an empty sequence'\u001b[0m\u001b[0;34m)\u001b[0m\u001b[0;34m\u001b[0m\u001b[0;34m\u001b[0m\u001b[0m\n\u001b[0m\u001b[1;32m    374\u001b[0m         \u001b[0;32mreturn\u001b[0m \u001b[0mseq\u001b[0m\u001b[0;34m[\u001b[0m\u001b[0mself\u001b[0m\u001b[0;34m.\u001b[0m\u001b[0m_randbelow\u001b[0m\u001b[0;34m(\u001b[0m\u001b[0mlen\u001b[0m\u001b[0;34m(\u001b[0m\u001b[0mseq\u001b[0m\u001b[0;34m)\u001b[0m\u001b[0;34m)\u001b[0m\u001b[0;34m]\u001b[0m\u001b[0;34m\u001b[0m\u001b[0;34m\u001b[0m\u001b[0m\n\u001b[1;32m    375\u001b[0m \u001b[0;34m\u001b[0m\u001b[0m\n",
            "\u001b[0;31mIndexError\u001b[0m: Cannot choose from an empty sequence"
          ]
        }
      ]
    },
    {
      "cell_type": "code",
      "source": [
        "ND_path = \"DATA\"\n",
        "file_name = []\n",
        "labels = []\n",
        "full_path = []\n",
        "for path, subdirs, files in os.walk(ND_path):\n",
        "    for name in files:\n",
        "        full_path.append(os.path.join(path, name))\n",
        "        labels.append(path.split('/')[-1])\n",
        "        file_name.append(name)\n",
        "\n",
        "distribution_train = pd.DataFrame({\"path\":full_path, 'file_name':file_name, \"labels\":labels})\n",
        "\n",
        "# Plot distribusi gambar di setiap kelas\n",
        "Label = distribution_train['labels']\n",
        "plt.figure(figsize = (6,6))\n",
        "sns.set_style(\"darkgrid\")\n",
        "plot_data = sns.countplot(Label)"
      ],
      "metadata": {
        "id": "NYtB6hvxLnb1"
      },
      "execution_count": null,
      "outputs": []
    },
    {
      "cell_type": "code",
      "source": [
        "mypath= 'DATA'\n",
        "\n",
        "file_name = []\n",
        "labels = []\n",
        "full_path = []\n",
        "for path, subdirs, files in os.walk(mypath):\n",
        "    for name in files:\n",
        "        full_path.append(os.path.join(path, name))\n",
        "        labels.append(path.split('/')[-1])\n",
        "        file_name.append(name)\n",
        "\n",
        "\n",
        "# Memasukan variabel yang sudah dikumpulkan pada looping di atas menjadi sebuah dataframe agar rapih\n",
        "df = pd.DataFrame({\"path\":full_path,'file_name':file_name,\"labels\":labels})\n",
        "# Melihat jumlah data gambar pada masing-masing label\n",
        "df.groupby(['labels']).size()"
      ],
      "metadata": {
        "id": "ttmvosxBLvLO"
      },
      "execution_count": null,
      "outputs": []
    },
    {
      "cell_type": "code",
      "source": [
        "X= df['path']\n",
        "y= df['labels']"
      ],
      "metadata": {
        "id": "riZcmmUPL73_"
      },
      "execution_count": null,
      "outputs": []
    },
    {
      "cell_type": "code",
      "source": [
        "X_train, X_test, y_train, y_test = train_test_split(\n",
        "    X, y, test_size=0.2, random_state=300)"
      ],
      "metadata": {
        "id": "XPq3Kt2iL-NB"
      },
      "execution_count": null,
      "outputs": []
    },
    {
      "cell_type": "code",
      "source": [
        "df_tr = pd.DataFrame({'path':X_train,'labels':y_train,'set':'train'})\n",
        "df_te = pd.DataFrame({'path':X_test,'labels':y_test,'set':'test'})"
      ],
      "metadata": {
        "id": "k9NldcW4MA_h"
      },
      "execution_count": null,
      "outputs": []
    },
    {
      "cell_type": "code",
      "source": [
        "print('train size', len(df_tr))\n",
        "print('test size', len(df_te))"
      ],
      "metadata": {
        "id": "lOgrr2qQMEPY"
      },
      "execution_count": null,
      "outputs": []
    },
    {
      "cell_type": "code",
      "source": [
        "df_all = pd.concat([df_tr, df_te], ignore_index=True)\n",
        "\n",
        "print('===================================================== \\n')\n",
        "print(df_all.groupby(['set', 'labels']).size(), '\\n')\n",
        "print('===================================================== \\n')\n",
        "\n",
        "# Cek sample data\n",
        "print(df_all.sample(5))"
      ],
      "metadata": {
        "id": "LSm7L275MHuJ"
      },
      "execution_count": null,
      "outputs": []
    },
    {
      "cell_type": "code",
      "source": [
        "datasource = \"DATA/\"\n",
        "dataset_path = \"Dataset-Final/\"\n",
        "for index, row in tq(df_all.iterrows()):\n",
        "    file_path = row['path']\n",
        "    if os.path.exists(file_path) == False:\n",
        "            file_path = os.path.join(datasource_path,row['labels'],row['image'].split('.')[0])\n",
        "\n",
        "    if os.path.exists(os.path.join(dataset_path,row['set'],row['labels'])) == False:\n",
        "        os.makedirs(os.path.join(dataset_path,row['set'],row['labels']))\n",
        "\n",
        "    destination_file_name = file_path.split('/')[-1]\n",
        "    file_dest = os.path.join(dataset_path,row['set'],row['labels'],destination_file_name)\n",
        "\n",
        "    if os.path.exists(file_dest) == False:\n",
        "        shutil.copy2(file_path,file_dest)"
      ],
      "metadata": {
        "id": "HWGhJ3VUMPDR"
      },
      "execution_count": null,
      "outputs": []
    },
    {
      "cell_type": "code",
      "source": [
        "df_all.head()"
      ],
      "metadata": {
        "id": "OK8I8yhVMW3v"
      },
      "execution_count": null,
      "outputs": []
    },
    {
      "cell_type": "code",
      "source": [
        "TRAIN_DIR = \"Dataset-Final/train/\"\n",
        "TEST_DIR = \"Dataset-Final/test/\"\n",
        "\n",
        "train_VALID = os.path.join(TRAIN_DIR, \"VALID\")\n",
        "train_INVALID = os.path.join(TRAIN_DIR, \"INVALID\")\n",
        "\n",
        "test_VALID = os.path.join(TEST_DIR, \"VALID\")\n",
        "test_INVALID = os.path.join(TEST_DIR, \"INVALID\")"
      ],
      "metadata": {
        "id": "1XpG_XItMcz1"
      },
      "execution_count": null,
      "outputs": []
    },
    {
      "cell_type": "code",
      "source": [
        "datagen = ImageDataGenerator(rescale=1/255.,\n",
        "                             validation_split = 0.2)\n",
        "test_datagen = ImageDataGenerator(rescale=1. / 255)\n",
        "\n",
        "train_generator = datagen.flow_from_directory(TRAIN_DIR,\n",
        "                                              batch_size=32,\n",
        "                                              target_size=(150,150),\n",
        "                                              color_mode=\"grayscale\",\n",
        "                                              class_mode='binary',\n",
        "                                              subset='training',\n",
        "                                              shuffle=True)\n",
        "\n",
        "validation_generator = datagen.flow_from_directory(TRAIN_DIR,\n",
        "                                                   batch_size=32,\n",
        "                                                   target_size=(150,150),\n",
        "                                                   color_mode=\"grayscale\",\n",
        "                                                   class_mode='binary',\n",
        "                                                   subset='validation',\n",
        "                                                   shuffle=False)\n",
        "\n",
        "test_generator = test_datagen.flow_from_directory(TEST_DIR,\n",
        "                                                  batch_size=1,\n",
        "                                                  target_size=(150,150),\n",
        "                                                  color_mode=\"grayscale\",\n",
        "                                                  class_mode='binary',\n",
        "                                                  shuffle=False)"
      ],
      "metadata": {
        "id": "-y_epN1NNvjE"
      },
      "execution_count": null,
      "outputs": []
    },
    {
      "cell_type": "markdown",
      "source": [
        "# Model Building"
      ],
      "metadata": {
        "id": "LJ1nP2GTW0qn"
      }
    },
    {
      "cell_type": "code",
      "source": [
        "v1_model = Sequential([\n",
        "    Conv2D(128, (3, 3), padding='same', activation='relu', input_shape=(150, 150, 1)),\n",
        "    BatchNormalization(),\n",
        "    MaxPooling2D((2, 2)),\n",
        "    Conv2D(128, (4, 4), padding='same', activation='relu'),\n",
        "    BatchNormalization(),\n",
        "    MaxPooling2D((2, 2)),\n",
        "    Conv2D(128, (7, 7), padding='same', activation='relu'),\n",
        "    BatchNormalization(),\n",
        "    MaxPooling2D((2, 2)),\n",
        "\n",
        "    # Layer Fully Connected\n",
        "    Flatten(),\n",
        "    Dense(128, activation='relu'),\n",
        "    Dropout(0.5),\n",
        "    Dense(64, activation='relu'),\n",
        "    Dropout(0.3),\n",
        "    Dense(1, activation='sigmoid')\n",
        "])\n",
        "\n",
        "v1_model.compile(optimizer=tf.keras.optimizers.RMSprop(learning_rate=0.0001),\n",
        "                loss='binary_crossentropy',\n",
        "                metrics=['accuracy'])\n",
        "\n",
        "print(v1_model.summary())"
      ],
      "metadata": {
        "id": "kIpG8X7NZFXm"
      },
      "execution_count": null,
      "outputs": []
    },
    {
      "cell_type": "code",
      "source": [
        "count_valid, count_invalid = len(os.listdir(train_VALID)), len(os.listdir(test_INVALID))\n",
        "weight_0 = ( 1 / count_valid) * (count_valid + count_invalid) / 2.0\n",
        "weight_1 = ( 1 / count_invalid) * (count_valid + count_invalid) / 2.0\n",
        "\n",
        "class_weights = {0 : weight_0, 1 : weight_1}\n",
        "\n",
        "%time\n",
        "\n",
        "# Fitting / training model\n",
        "history_1 = v1_model.fit(train_generator,\n",
        "                        epochs=30,\n",
        "                        batch_size=32,\n",
        "                        validation_data=validation_generator,\n",
        "                        class_weight = class_weights)"
      ],
      "metadata": {
        "id": "zILKfNsXPNXy"
      },
      "execution_count": null,
      "outputs": []
    },
    {
      "cell_type": "code",
      "execution_count": null,
      "metadata": {
        "id": "NydxcRjPviC5"
      },
      "outputs": [],
      "source": [
        "acc = history_1.history['accuracy']\n",
        "val_acc = history_1.history['val_accuracy']\n",
        "loss = history_1.history['loss']\n",
        "val_loss = history_1.history['val_loss']\n",
        "\n",
        "epochs = range(len(acc))\n",
        "\n",
        "plt.plot(epochs, acc, 'r')\n",
        "plt.plot(epochs, val_acc, 'b')\n",
        "plt.title('Training and Validation Accuracy')\n",
        "plt.ylabel('accuracy')\n",
        "plt.xlabel('epoch')\n",
        "plt.legend(['train', 'val'], loc='upper left')\n",
        "plt.show()\n",
        "\n",
        "plt.plot(epochs, loss, 'r')\n",
        "plt.plot(epochs, val_loss, 'b')\n",
        "plt.ylabel('loss')\n",
        "plt.xlabel('epoch')\n",
        "plt.legend(['train', 'val'], loc='upper left')\n",
        "plt.title('Training and Validaion Loss')\n",
        "plt.show()"
      ]
    },
    {
      "cell_type": "code",
      "source": [
        "test_generator.reset()\n",
        "\n",
        "preds_1 = v1_model.predict(test_generator,verbose=0)\n",
        "preds_1 = preds_1.copy()\n",
        "preds_1[preds_1 <= 0.5] = 0\n",
        "preds_1[preds_1 > 0.5] = 1\n",
        "\n",
        "# Print Confusion Matrix\n",
        "cm = pd.DataFrame(data=confusion_matrix(test_generator.classes, preds_1, labels=[0, 1]),index=[\"Actual Valid\", \"Actual Invalid\"],\n",
        "columns=[\"Predicted Valid\", \"Predicted Invalid\"])\n",
        "sns.heatmap(cm,annot=True,fmt=\"d\",cmap=\"Blues\")\n",
        "\n",
        "# Print Classification Report\n",
        "print(\"\\n\")\n",
        "print(classification_report(y_true=test_generator.classes,y_pred=preds_1,target_names =['Valid','Invalid'], digits=4))"
      ],
      "metadata": {
        "id": "KabeqwuFW4aO"
      },
      "execution_count": null,
      "outputs": []
    },
    {
      "cell_type": "markdown",
      "source": [
        "# inference dan testing with real image"
      ],
      "metadata": {
        "id": "wbqma059mx6e"
      }
    },
    {
      "cell_type": "code",
      "source": [],
      "metadata": {
        "id": "fbHZ7ChQm1hG"
      },
      "execution_count": null,
      "outputs": []
    }
  ],
  "metadata": {
    "language_info": {
      "name": "python"
    },
    "colab": {
      "provenance": [],
      "gpuType": "T4"
    },
    "kernelspec": {
      "name": "python3",
      "display_name": "Python 3"
    },
    "accelerator": "GPU"
  },
  "nbformat": 4,
  "nbformat_minor": 0
}